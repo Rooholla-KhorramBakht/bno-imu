{
 "cells": [
  {
   "cell_type": "code",
   "execution_count": 18,
   "metadata": {},
   "outputs": [],
   "source": [
    "import serial\n",
    "from threading import Thread\n",
    "import struct\n",
    "import numpy as np\n",
    "import pinocchio as pin\n",
    "import meshcat\n",
    "from scipy.spatial.transform import Rotation\n",
    "import time"
   ]
  },
  {
   "cell_type": "code",
   "execution_count": 3,
   "metadata": {},
   "outputs": [],
   "source": [
    "class ExoIMUs:\n",
    "    def __init__(self, port = '/dev/ttyACM0'):\n",
    "        self.port = port\n",
    "        self.serial = serial.Serial(port, baudrate=115200, timeout=1)\n",
    "        self.running = True\n",
    "        self.state = None\n",
    "        self.thread = Thread(target=self.update)\n",
    "        self.thread.start()\n",
    "\n",
    "    def update(self):\n",
    "        while self.running:\n",
    "            data = self.serial.read_until(b'abc\\n')\n",
    "            if(len(data) == 4 + 12*4):\n",
    "                data = struct.unpack('12f',data[:-4])\n",
    "                self.state = {'q_hand':np.asarray(data[0:4]),\n",
    "                            'q_shoulder':np.asarray(data[4:8]),\n",
    "                            'q_base':np.asarray(data[8:12])}\n",
    "            \n",
    "    def read(self):\n",
    "        return self.state\n",
    "    \n",
    "    def close(self):\n",
    "        self.running=False\n",
    "        self.serial.close()\n",
    "\n",
    "imu = ExoIMUs()"
   ]
  },
  {
   "cell_type": "code",
   "execution_count": 13,
   "metadata": {},
   "outputs": [
    {
     "data": {
      "text/plain": [
       "{'q_hand': array([-0.01147461,  0.01123047, -0.10339355,  0.99450684]),\n",
       " 'q_shoulder': array([-0.02764893,  0.01104736,  0.08636475,  0.99584961]),\n",
       " 'q_base': array([-0.00872803,  0.02819824, -0.45397949,  0.89050293])}"
      ]
     },
     "execution_count": 13,
     "metadata": {},
     "output_type": "execute_result"
    }
   ],
   "source": [
    "imu.read()"
   ]
  },
  {
   "cell_type": "code",
   "execution_count": 14,
   "metadata": {},
   "outputs": [],
   "source": [
    "\n",
    "def add_frame(name, vis):\n",
    "    xbox = meshcat.geometry.Box([0.1, 0.01, 0.01])\n",
    "    vis[\"xbox_\" + name].set_object(xbox, meshcat.geometry.MeshLambertMaterial(\n",
    "                                    color=0xFF0000))\n",
    "    ybox = meshcat.geometry.Box([0.01, 0.1, 0.01])\n",
    "    vis[\"ybox_\" + name].set_object(ybox, meshcat.geometry.MeshLambertMaterial(\n",
    "                                    color=0x00FF00))\n",
    "    zbox = meshcat.geometry.Box([0.01, 0.01, 0.1])\n",
    "    vis[\"zbox_\" + name].set_object(zbox, meshcat.geometry.MeshLambertMaterial(\n",
    "                                    color=0x0000FF))\n",
    "\n",
    "def update_frame(name, vis, R, offset = np.zeros(3)):\n",
    "    X_TG = np.eye(4)\n",
    "    X_TG[0,3] = 0.05\n",
    "    Y_TG = np.eye(4)\n",
    "    Y_TG[1,3] = 0.05\n",
    "    Z_TG = np.eye(4)\n",
    "    Z_TG[2,3] = 0.05\n",
    "\n",
    "    offset_TG = np.eye(4)\n",
    "    offset_TG[0:3,3] = offset\n",
    "\n",
    "\n",
    "    T = np.eye(4)\n",
    "    T[0:3,0:3] = R\n",
    "    vis[\"xbox_\" + name].set_transform( offset_TG @ T @ X_TG )\n",
    "    vis[\"ybox_\" + name].set_transform( offset_TG @ T @ Y_TG )\n",
    "    vis[\"zbox_\" + name].set_transform( offset_TG @ T @ Z_TG )\n"
   ]
  },
  {
   "cell_type": "code",
   "execution_count": 15,
   "metadata": {},
   "outputs": [
    {
     "name": "stdout",
     "output_type": "stream",
     "text": [
      "You can open the visualizer by visiting the following URL:\n",
      "http://127.0.0.1:7002/static/\n"
     ]
    },
    {
     "data": {
      "text/html": [
       "\n",
       "            <div style=\"height: 400px; width: 100%; overflow-x: auto; overflow-y: hidden; resize: both\">\n",
       "            <iframe src=\"http://127.0.0.1:7002/static/\" style=\"width: 100%; height: 100%; border: none\"></iframe>\n",
       "            </div>\n",
       "            "
      ],
      "text/plain": [
       "<IPython.core.display.HTML object>"
      ]
     },
     "execution_count": 15,
     "metadata": {},
     "output_type": "execute_result"
    }
   ],
   "source": [
    "vis = meshcat.Visualizer()\n",
    "\n",
    "add_frame(\"hand\", vis)\n",
    "add_frame(\"base\", vis)\n",
    "add_frame(\"shoulder\", vis)\n",
    "vis.jupyter_cell()"
   ]
  },
  {
   "cell_type": "code",
   "execution_count": 20,
   "metadata": {},
   "outputs": [
    {
     "ename": "KeyboardInterrupt",
     "evalue": "",
     "output_type": "error",
     "traceback": [
      "\u001b[0;31m---------------------------------------------------------------------------\u001b[0m",
      "\u001b[0;31mKeyboardInterrupt\u001b[0m                         Traceback (most recent call last)",
      "Cell \u001b[0;32mIn[20], line 6\u001b[0m\n\u001b[1;32m      4\u001b[0m \u001b[38;5;28;01mfor\u001b[39;00m name \u001b[38;5;129;01min\u001b[39;00m names:\n\u001b[1;32m      5\u001b[0m     iRbr1 \u001b[38;5;241m=\u001b[39m Rotation\u001b[38;5;241m.\u001b[39mfrom_quat(data[\u001b[38;5;124m'\u001b[39m\u001b[38;5;124mq_\u001b[39m\u001b[38;5;124m'\u001b[39m \u001b[38;5;241m+\u001b[39m name])\u001b[38;5;241m.\u001b[39mas_matrix()\n\u001b[0;32m----> 6\u001b[0m     \u001b[43mupdate_frame\u001b[49m\u001b[43m(\u001b[49m\u001b[43mname\u001b[49m\u001b[43m,\u001b[49m\u001b[43m \u001b[49m\u001b[43mvis\u001b[49m\u001b[43m,\u001b[49m\u001b[43m \u001b[49m\u001b[43miRbr1\u001b[49m\u001b[43m)\u001b[49m\n\u001b[1;32m      7\u001b[0m time\u001b[38;5;241m.\u001b[39msleep(\u001b[38;5;241m0.01\u001b[39m)\n",
      "Cell \u001b[0;32mIn[14], line 28\u001b[0m, in \u001b[0;36mupdate_frame\u001b[0;34m(name, vis, R, offset)\u001b[0m\n\u001b[1;32m     26\u001b[0m vis[\u001b[38;5;124m\"\u001b[39m\u001b[38;5;124mxbox_\u001b[39m\u001b[38;5;124m\"\u001b[39m \u001b[38;5;241m+\u001b[39m name]\u001b[38;5;241m.\u001b[39mset_transform( offset_TG \u001b[38;5;241m@\u001b[39m T \u001b[38;5;241m@\u001b[39m X_TG )\n\u001b[1;32m     27\u001b[0m vis[\u001b[38;5;124m\"\u001b[39m\u001b[38;5;124mybox_\u001b[39m\u001b[38;5;124m\"\u001b[39m \u001b[38;5;241m+\u001b[39m name]\u001b[38;5;241m.\u001b[39mset_transform( offset_TG \u001b[38;5;241m@\u001b[39m T \u001b[38;5;241m@\u001b[39m Y_TG )\n\u001b[0;32m---> 28\u001b[0m \u001b[43mvis\u001b[49m\u001b[43m[\u001b[49m\u001b[38;5;124;43m\"\u001b[39;49m\u001b[38;5;124;43mzbox_\u001b[39;49m\u001b[38;5;124;43m\"\u001b[39;49m\u001b[43m \u001b[49m\u001b[38;5;241;43m+\u001b[39;49m\u001b[43m \u001b[49m\u001b[43mname\u001b[49m\u001b[43m]\u001b[49m\u001b[38;5;241;43m.\u001b[39;49m\u001b[43mset_transform\u001b[49m\u001b[43m(\u001b[49m\u001b[43m \u001b[49m\u001b[43moffset_TG\u001b[49m\u001b[43m \u001b[49m\u001b[38;5;241;43m@\u001b[39;49m\u001b[43m \u001b[49m\u001b[43mT\u001b[49m\u001b[43m \u001b[49m\u001b[38;5;241;43m@\u001b[39;49m\u001b[43m \u001b[49m\u001b[43mZ_TG\u001b[49m\u001b[43m \u001b[49m\u001b[43m)\u001b[49m\n",
      "File \u001b[0;32m~/.local/lib/python3.10/site-packages/meshcat/visualizer.py:152\u001b[0m, in \u001b[0;36mVisualizer.set_transform\u001b[0;34m(self, matrix)\u001b[0m\n\u001b[1;32m    151\u001b[0m \u001b[38;5;28;01mdef\u001b[39;00m \u001b[38;5;21mset_transform\u001b[39m(\u001b[38;5;28mself\u001b[39m, matrix\u001b[38;5;241m=\u001b[39mnp\u001b[38;5;241m.\u001b[39meye(\u001b[38;5;241m4\u001b[39m)):\n\u001b[0;32m--> 152\u001b[0m     \u001b[38;5;28;01mreturn\u001b[39;00m \u001b[38;5;28;43mself\u001b[39;49m\u001b[38;5;241;43m.\u001b[39;49m\u001b[43mwindow\u001b[49m\u001b[38;5;241;43m.\u001b[39;49m\u001b[43msend\u001b[49m\u001b[43m(\u001b[49m\u001b[43mSetTransform\u001b[49m\u001b[43m(\u001b[49m\u001b[43mmatrix\u001b[49m\u001b[43m,\u001b[49m\u001b[43m \u001b[49m\u001b[38;5;28;43mself\u001b[39;49m\u001b[38;5;241;43m.\u001b[39;49m\u001b[43mpath\u001b[49m\u001b[43m)\u001b[49m\u001b[43m)\u001b[49m\n",
      "File \u001b[0;32m~/.local/lib/python3.10/site-packages/meshcat/visualizer.py:63\u001b[0m, in \u001b[0;36mViewerWindow.send\u001b[0;34m(self, command)\u001b[0m\n\u001b[1;32m     57\u001b[0m cmd_data \u001b[38;5;241m=\u001b[39m command\u001b[38;5;241m.\u001b[39mlower()\n\u001b[1;32m     58\u001b[0m \u001b[38;5;28mself\u001b[39m\u001b[38;5;241m.\u001b[39mzmq_socket\u001b[38;5;241m.\u001b[39msend_multipart([\n\u001b[1;32m     59\u001b[0m     cmd_data[\u001b[38;5;124m\"\u001b[39m\u001b[38;5;124mtype\u001b[39m\u001b[38;5;124m\"\u001b[39m]\u001b[38;5;241m.\u001b[39mencode(\u001b[38;5;124m\"\u001b[39m\u001b[38;5;124mutf-8\u001b[39m\u001b[38;5;124m\"\u001b[39m),\n\u001b[1;32m     60\u001b[0m     cmd_data[\u001b[38;5;124m\"\u001b[39m\u001b[38;5;124mpath\u001b[39m\u001b[38;5;124m\"\u001b[39m]\u001b[38;5;241m.\u001b[39mencode(\u001b[38;5;124m\"\u001b[39m\u001b[38;5;124mutf-8\u001b[39m\u001b[38;5;124m\"\u001b[39m),\n\u001b[1;32m     61\u001b[0m     umsgpack\u001b[38;5;241m.\u001b[39mpackb(cmd_data)\n\u001b[1;32m     62\u001b[0m ])\n\u001b[0;32m---> 63\u001b[0m \u001b[38;5;28;43mself\u001b[39;49m\u001b[38;5;241;43m.\u001b[39;49m\u001b[43mzmq_socket\u001b[49m\u001b[38;5;241;43m.\u001b[39;49m\u001b[43mrecv\u001b[49m\u001b[43m(\u001b[49m\u001b[43m)\u001b[49m\n",
      "File \u001b[0;32mzmq/backend/cython/socket.pyx:805\u001b[0m, in \u001b[0;36mzmq.backend.cython.socket.Socket.recv\u001b[0;34m()\u001b[0m\n",
      "File \u001b[0;32mzmq/backend/cython/socket.pyx:841\u001b[0m, in \u001b[0;36mzmq.backend.cython.socket.Socket.recv\u001b[0;34m()\u001b[0m\n",
      "File \u001b[0;32mzmq/backend/cython/socket.pyx:194\u001b[0m, in \u001b[0;36mzmq.backend.cython.socket._recv_copy\u001b[0;34m()\u001b[0m\n",
      "File \u001b[0;32m~/.local/lib/python3.10/site-packages/zmq/backend/cython/checkrc.pxd:13\u001b[0m, in \u001b[0;36mzmq.backend.cython.checkrc._check_rc\u001b[0;34m()\u001b[0m\n",
      "\u001b[0;31mKeyboardInterrupt\u001b[0m: "
     ]
    }
   ],
   "source": [
    "names = ['hand', 'base', 'shoulder']\n",
    "while True:\n",
    "    data = imu.read()\n",
    "    for name in names:\n",
    "        iRbr1 = Rotation.from_quat(data['q_' + name]).as_matrix()\n",
    "        update_frame(name, vis, iRbr1)\n",
    "    time.sleep(0.01)"
   ]
  }
 ],
 "metadata": {
  "kernelspec": {
   "display_name": "Python 3",
   "language": "python",
   "name": "python3"
  },
  "language_info": {
   "codemirror_mode": {
    "name": "ipython",
    "version": 3
   },
   "file_extension": ".py",
   "mimetype": "text/x-python",
   "name": "python",
   "nbconvert_exporter": "python",
   "pygments_lexer": "ipython3",
   "version": "3.10.12"
  }
 },
 "nbformat": 4,
 "nbformat_minor": 2
}
