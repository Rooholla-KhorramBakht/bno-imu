{
 "cells": [
  {
   "cell_type": "code",
   "execution_count": 2,
   "metadata": {},
   "outputs": [],
   "source": [
    "import serial\n",
    "from threading import Thread\n",
    "import struct"
   ]
  },
  {
   "cell_type": "code",
   "execution_count": 3,
   "metadata": {},
   "outputs": [],
   "source": [
    "class BnoImu:\n",
    "    def __init__(self, port = '/dev/ttyACM0'):\n",
    "        self.port = port\n",
    "        self.serial = serial.Serial(port, baudrate=115200, timeout=1)\n",
    "        self.running = True\n",
    "        self.state = None\n",
    "        self.thread = Thread(target=self.update)\n",
    "        self.thread.start()\n",
    "\n",
    "    def update(self):\n",
    "        while self.running:\n",
    "            data = self.serial.read_until(b'abc\\n')\n",
    "            data = struct.unpack('16f',data[:-4])\n",
    "            self.state = {'q':data[0:4],\n",
    "                          'acce':data[4:7],\n",
    "                          'gyro':data[7:10],\n",
    "                          'mag':data[10:13],\n",
    "                          'gravity':data[13:16]}\n",
    "            \n",
    "    def read(self):\n",
    "        return self.state\n",
    "    \n",
    "    def close(self):\n",
    "        self.running=False\n",
    "        self.serial.close()\n",
    "\n",
    "imu = BnoImu()\n",
    "\n"
   ]
  },
  {
   "cell_type": "code",
   "execution_count": 9,
   "metadata": {},
   "outputs": [
    {
     "data": {
      "text/plain": [
       "{'q': (0.17095947265625, -0.02410888671875, -0.1083984375, 0.97900390625),\n",
       " 'acce': (0.10999999940395355, -0.11999999731779099, -0.11999999731779099),\n",
       " 'gyro': (-0.0010908307740464807,\n",
       "  -0.0010908307740464807,\n",
       "  0.0010908307740464807),\n",
       " 'mag': (-5.5, -23.25, -10.375),\n",
       " 'gravity': (0.09000000357627869, 3.3299999237060547, 9.220000267028809)}"
      ]
     },
     "execution_count": 9,
     "metadata": {},
     "output_type": "execute_result"
    }
   ],
   "source": [
    "imu.read()"
   ]
  },
  {
   "cell_type": "code",
   "execution_count": null,
   "metadata": {},
   "outputs": [],
   "source": []
  }
 ],
 "metadata": {
  "kernelspec": {
   "display_name": "Python 3",
   "language": "python",
   "name": "python3"
  },
  "language_info": {
   "codemirror_mode": {
    "name": "ipython",
    "version": 3
   },
   "file_extension": ".py",
   "mimetype": "text/x-python",
   "name": "python",
   "nbconvert_exporter": "python",
   "pygments_lexer": "ipython3",
   "version": "3.8.10"
  }
 },
 "nbformat": 4,
 "nbformat_minor": 2
}
