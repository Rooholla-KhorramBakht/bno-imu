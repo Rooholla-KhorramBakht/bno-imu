{
 "cells": [
  {
   "cell_type": "code",
   "execution_count": 1,
   "metadata": {},
   "outputs": [],
   "source": [
    "import serial\n",
    "from threading import Thread\n",
    "import struct\n",
    "import numpy as np"
   ]
  },
  {
   "cell_type": "code",
   "execution_count": 4,
   "metadata": {},
   "outputs": [],
   "source": [
    "class BnoImu:\n",
    "    def __init__(self, port = '/dev/ttyACM1'):\n",
    "        self.port = port\n",
    "        self.serial = serial.Serial(port, baudrate=115200, timeout=1)\n",
    "        self.running = True\n",
    "        self.state = None\n",
    "        self.thread = Thread(target=self.update)\n",
    "        self.thread.start()\n",
    "\n",
    "    def update(self):\n",
    "        while self.running:\n",
    "            data = self.serial.read_until(b'abc\\n')\n",
    "            # print(data)\n",
    "            if(len(data) == 69):\n",
    "                data = struct.unpack('16f' + 'c',data[:-4])\n",
    "                self.state = {'q':data[0:4],\n",
    "                            'acce':data[4:7],\n",
    "                            'gyro':data[7:10],\n",
    "                            'mag':data[10:13],\n",
    "                            'gravity':data[13:16],\n",
    "                            'quat_accuracy': int.from_bytes(data[16], byteorder='big')}\n",
    "            \n",
    "    def read(self):\n",
    "        return self.state\n",
    "    \n",
    "    def close(self):\n",
    "        self.running=False\n",
    "        self.serial.close()\n",
    "\n",
    "imu = BnoImu()\n",
    "\n"
   ]
  },
  {
   "cell_type": "code",
   "execution_count": 19,
   "metadata": {},
   "outputs": [
    {
     "data": {
      "text/plain": [
       "{'q': (0.00372314453125, -0.0052490234375, 0.7979736328125, 0.6026611328125),\n",
       " 'acce': (0.0, 0.0, 0.0),\n",
       " 'gyro': (0.0, 0.0, 0.0),\n",
       " 'mag': (0.0, 0.0, 0.0),\n",
       " 'gravity': (0.0, 0.0, 0.0),\n",
       " 'quat_accuracy': 3}"
      ]
     },
     "execution_count": 19,
     "metadata": {},
     "output_type": "execute_result"
    },
    {
     "name": "stderr",
     "output_type": "stream",
     "text": [
      "Exception in thread Thread-5 (update):\n",
      "Traceback (most recent call last):\n",
      "  File \"/home/ameduri/miniconda3/envs/exoskeleton/lib/python3.10/threading.py\", line 1016, in _bootstrap_inner\n",
      "    self.run()\n",
      "  File \"/home/ameduri/miniconda3/envs/exoskeleton/lib/python3.10/threading.py\", line 953, in run\n",
      "    self._target(*self._args, **self._kwargs)\n",
      "  File \"/tmp/ipykernel_509778/1526818460.py\", line 12, in update\n",
      "  File \"/home/ameduri/miniconda3/envs/exoskeleton/lib/python3.10/site-packages/serial/serialutil.py\", line 663, in read_until\n",
      "    c = self.read(1)\n",
      "  File \"/home/ameduri/miniconda3/envs/exoskeleton/lib/python3.10/site-packages/serial/serialposix.py\", line 595, in read\n",
      "    raise SerialException(\n",
      "serial.serialutil.SerialException: device reports readiness to read but returned no data (device disconnected or multiple access on port?)\n"
     ]
    }
   ],
   "source": [
    "imu.read()"
   ]
  },
  {
   "cell_type": "code",
   "execution_count": null,
   "metadata": {},
   "outputs": [],
   "source": []
  }
 ],
 "metadata": {
  "kernelspec": {
   "display_name": "Python 3",
   "language": "python",
   "name": "python3"
  },
  "language_info": {
   "codemirror_mode": {
    "name": "ipython",
    "version": 3
   },
   "file_extension": ".py",
   "mimetype": "text/x-python",
   "name": "python",
   "nbconvert_exporter": "python",
   "pygments_lexer": "ipython3",
   "version": "3.10.13"
  }
 },
 "nbformat": 4,
 "nbformat_minor": 2
}
